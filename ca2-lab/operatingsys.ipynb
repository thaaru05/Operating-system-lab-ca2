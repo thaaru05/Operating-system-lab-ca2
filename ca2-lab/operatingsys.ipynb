{
 "cells": [
  {
   "cell_type": "code",
   "execution_count": null,
   "id": "0436cb65-87f6-40ff-95a0-a8674c258986",
   "metadata": {},
   "outputs": [],
   "source": [
    "import threading\n",
    "import time\n",
    "import random\n",
    "\n",
    "database = {}  # Shared resource\n",
    "read_count = 0\n",
    "m = threading.Semaphore(1)  # Semaphore for mutual exclusion\n",
    "w = threading.Semaphore(1)  # Semaphore for writer preference\n",
    "\n",
    "def writer():\n",
    "    while True:\n",
    "        w.acquire()\n",
    "        # Write operation\n",
    "        print(f\"Writer {threading.current_thread().name} is writing to database\")\n",
    "        database[threading.current_thread().name] = random.randint(1, 100)\n",
    "        time.sleep(random.randint(1, 3))\n",
    "        w.release()\n",
    "\n",
    "def reader():\n",
    "    while True:\n",
    "        m.acquire()\n",
    "        read_count += 1\n",
    "        if read_count == 1:\n",
    "            w.acquire()\n",
    "        m.release()\n",
    "\n",
    "        # Read operation\n",
    "        print(f\"Reader {threading.current_thread().name} is reading database: {database}\")\n",
    "        time.sleep(random.randint(1, 3))\n",
    "\n",
    "        m.acquire()\n",
    "        read_count -= 1\n",
    "        if read_count == 0:\n",
    "            w.release()\n",
    "        m.release()\n",
    "\n",
    "if __name__ == \"__main__\":\n",
    "    # Creating reader and writer threads\n",
    "    threads = []\n",
    "    for i in range(5):\n",
    "        threads.append(threading.Thread(target=reader))\n",
    "        threads.append(threading.Thread(target=writer))\n",
    "\n",
    "    # Starting threads\n",
    "    for thread in threads:\n",
    "        thread.start()\n",
    "\n",
    "    # Waiting for threads to complete\n",
    "    for thread in threads:\n",
    "        thread.join()\n",
    "\n",
    "    print(\"All threads have finished execution\")\n"
   ]
  },
  {
   "cell_type": "code",
   "execution_count": null,
   "id": "c4809580-8943-43e0-8de0-32408985d48f",
   "metadata": {},
   "outputs": [],
   "source": []
  },
  {
   "cell_type": "code",
   "execution_count": null,
   "id": "5d16fd6e-c0c6-4926-aa9e-41bec5e565c2",
   "metadata": {},
   "outputs": [],
   "source": []
  }
 ],
 "metadata": {
  "kernelspec": {
   "display_name": "Python 3 (ipykernel)",
   "language": "python",
   "name": "python3"
  },
  "language_info": {
   "codemirror_mode": {
    "name": "ipython",
    "version": 3
   },
   "file_extension": ".py",
   "mimetype": "text/x-python",
   "name": "python",
   "nbconvert_exporter": "python",
   "pygments_lexer": "ipython3",
   "version": "3.11.7"
  }
 },
 "nbformat": 4,
 "nbformat_minor": 5
}
